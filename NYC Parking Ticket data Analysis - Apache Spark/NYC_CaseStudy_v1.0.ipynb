{
 "cells": [
  {
   "cell_type": "code",
   "execution_count": 1,
   "metadata": {},
   "outputs": [],
   "source": [
    "#Lets start with SpartSession\n",
    "from pyspark.sql import SparkSession\n",
    "spark = SparkSession \\\n",
    "    .builder \\\n",
    "    .appName(\"PySpark DataFrame and Sql\") \\\n",
    "    .getOrCreate()"
   ]
  },
  {
   "cell_type": "code",
   "execution_count": 2,
   "metadata": {},
   "outputs": [],
   "source": [
    "# lets read the data given in assignment\n",
    "NYC_df= spark.read.format(\"csv\")\\\n",
    " .option(\"header\",\"true\")\\\n",
    " .option(\"inferSchema\",\"true\")\\\n",
    " .load('/common_folder/nyc_parking/Parking_Violations_Issued_-_Fiscal_Year_2017.csv')\\"
   ]
  },
  {
   "cell_type": "code",
   "execution_count": 3,
   "metadata": {},
   "outputs": [
    {
     "data": {
      "text/plain": [
       "StructType(List(StructField(Summons Number,LongType,true),StructField(Plate ID,StringType,true),StructField(Registration State,StringType,true),StructField(Issue Date,TimestampType,true),StructField(Violation Code,IntegerType,true),StructField(Vehicle Body Type,StringType,true),StructField(Vehicle Make,StringType,true),StructField(Violation Precinct,IntegerType,true),StructField(Issuer Precinct,IntegerType,true),StructField(Violation Time,StringType,true)))"
      ]
     },
     "execution_count": 3,
     "metadata": {},
     "output_type": "execute_result"
    }
   ],
   "source": [
    "# lets check the structure of the file\n",
    "NYC_df.schema"
   ]
  },
  {
   "cell_type": "code",
   "execution_count": 4,
   "metadata": {},
   "outputs": [
    {
     "name": "stdout",
     "output_type": "stream",
     "text": [
      "root\n",
      " |-- Summons Number: long (nullable = true)\n",
      " |-- Plate ID: string (nullable = true)\n",
      " |-- Registration State: string (nullable = true)\n",
      " |-- Issue Date: timestamp (nullable = true)\n",
      " |-- Violation Code: integer (nullable = true)\n",
      " |-- Vehicle Body Type: string (nullable = true)\n",
      " |-- Vehicle Make: string (nullable = true)\n",
      " |-- Violation Precinct: integer (nullable = true)\n",
      " |-- Issuer Precinct: integer (nullable = true)\n",
      " |-- Violation Time: string (nullable = true)\n",
      "\n"
     ]
    }
   ],
   "source": [
    "# lets further check the structure of the file in more readable way\n",
    "NYC_df.printSchema()"
   ]
  },
  {
   "cell_type": "code",
   "execution_count": 5,
   "metadata": {},
   "outputs": [
    {
     "name": "stdout",
     "output_type": "stream",
     "text": [
      "+--------------+--------+------------------+-------------------+--------------+-----------------+------------+------------------+---------------+--------------+\n",
      "|Summons Number|Plate ID|Registration State|         Issue Date|Violation Code|Vehicle Body Type|Vehicle Make|Violation Precinct|Issuer Precinct|Violation Time|\n",
      "+--------------+--------+------------------+-------------------+--------------+-----------------+------------+------------------+---------------+--------------+\n",
      "|    5092469481| GZH7067|                NY|2016-07-10 00:00:00|             7|             SUBN|       TOYOT|                 0|              0|         0143A|\n",
      "|    5092451658| GZH7067|                NY|2016-07-08 00:00:00|             7|             SUBN|       TOYOT|                 0|              0|         0400P|\n",
      "|    4006265037| FZX9232|                NY|2016-08-23 00:00:00|             5|             SUBN|        FORD|                 0|              0|         0233P|\n",
      "|    8478629828| 66623ME|                NY|2017-06-14 00:00:00|            47|             REFG|       MITSU|                14|             14|         1120A|\n",
      "|    7868300310| 37033JV|                NY|2016-11-21 00:00:00|            69|             DELV|       INTER|                13|             13|         0555P|\n",
      "|    5096917368| FZD8593|                NY|2017-06-13 00:00:00|             7|             SUBN|       ME/BE|                 0|              0|         0852P|\n",
      "|    1413609545|  X20DCM|                NJ|2016-08-03 00:00:00|            40|              SDN|       TOYOT|                71|             71|         0215A|\n",
      "|    4628525523|  326SF9|                MA|2016-12-21 00:00:00|            36|               UT|         BMW|                 0|              0|         0758A|\n",
      "|    4627113330| HCA5464|                NY|2016-11-21 00:00:00|            36|             SUBN|       DODGE|                 0|              0|         1005A|\n",
      "|    4006478550| VAD7274|                VA|2016-10-05 00:00:00|             5|               4D|         BMW|                 0|              0|         0845A|\n",
      "|    1407740258| 2513JMG|                NY|2017-01-11 00:00:00|            78|             DELV|       FRUEH|               106|            106|         0015A|\n",
      "|    8009901763| 13657MD|                NY|2016-09-27 00:00:00|            19|             DELV|       KENWO|                18|             18|         0707A|\n",
      "|    4625926610|N102911C|                NY|2016-10-27 00:00:00|            36|              VAN|        FORD|                 0|              0|         1022A|\n",
      "|    1416492320| FGR5997|                NY|2016-09-30 00:00:00|            21|              SDN|       NISSA|                44|             44|         1150A|\n",
      "|    1413656420|T672371C|                NY|2017-02-04 00:00:00|            40|             TAXI|       TOYOT|                73|             73|         0525A|\n",
      "|    7959486440| GYF2052|                NY|2016-07-07 00:00:00|            71|             4DSD|       VOLKS|               120|            120|         0645P|\n",
      "|    5093620865| AD80228|                AZ|2016-09-24 00:00:00|             7|               TK|        FORD|                 0|              0|         1122A|\n",
      "|    8480309064| 51771JW|                NY|2017-01-26 00:00:00|            64|              VAN|       INTER|                17|             17|         0256P|\n",
      "|    1416638830|  GLP367|                NY|2017-04-30 00:00:00|            20|             SUBN|       DODGE|                17|             17|         1232A|\n",
      "|    4630524241|  HJBP29|                FL|2017-02-03 00:00:00|            36|               4D|         BMW|                 0|              0|         1034A|\n",
      "+--------------+--------+------------------+-------------------+--------------+-----------------+------------+------------------+---------------+--------------+\n",
      "only showing top 20 rows\n",
      "\n"
     ]
    }
   ],
   "source": [
    "# lets view the file (first 20 rows)\n",
    "NYC_df.show()"
   ]
  },
  {
   "cell_type": "code",
   "execution_count": 6,
   "metadata": {},
   "outputs": [
    {
     "name": "stdout",
     "output_type": "stream",
     "text": [
      "+-------+-------------------+--------+------------------+------------------+------------------+------------------+------------------+-----------------+-----------------+\n",
      "|summary|     Summons Number|Plate ID|Registration State|    Violation Code| Vehicle Body Type|      Vehicle Make|Violation Precinct|  Issuer Precinct|   Violation Time|\n",
      "+-------+-------------------+--------+------------------+------------------+------------------+------------------+------------------+-----------------+-----------------+\n",
      "|  count|           10803028|10803028|          10803028|          10803028|          10803028|          10803028|          10803028|         10803028|         10803028|\n",
      "|   mean|6.817447029065661E9|Infinity|              99.0|34.599430455979565|3.9258887134586864| 6519.974025974026| 45.01216260848347|46.82931211508477|909.2857142857143|\n",
      "| stddev|2.320233962328229E9|     NaN|               0.0|19.359868716323483|0.5013415469252523|18091.257389147086|40.552560268435805|62.66703577269466|791.8453853409226|\n",
      "|    min|         1002884949|   #1MOM|                99|                 0|                00|             ,FREI|                 0|                0|            .240P|\n",
      "|    max|         8585600044|       ~|                WY|                99|               nan|               nan|               933|              997|              nan|\n",
      "+-------+-------------------+--------+------------------+------------------+------------------+------------------+------------------+-----------------+-----------------+\n",
      "\n"
     ]
    }
   ],
   "source": [
    "# lets describe the dataframe once\n",
    "NYC_df.describe().show()"
   ]
  },
  {
   "cell_type": "code",
   "execution_count": 7,
   "metadata": {},
   "outputs": [
    {
     "name": "stdout",
     "output_type": "stream",
     "text": [
      "+-------+------------------+\n",
      "|summary|    Violation Code|\n",
      "+-------+------------------+\n",
      "|  count|          10803028|\n",
      "|   mean|34.599430455979565|\n",
      "| stddev|19.359868716323483|\n",
      "|    min|                 0|\n",
      "|    max|                99|\n",
      "+-------+------------------+\n",
      "\n"
     ]
    }
   ],
   "source": [
    "# as above description is not very clear,lets describe one single field and check once\n",
    "NYC_df.describe('Violation Code').show()"
   ]
  },
  {
   "cell_type": "markdown",
   "metadata": {},
   "source": [
    "#### Please Note: As suggested in the expert sessions, here we are assuming that all the data is pertaining to 2017 as per file name"
   ]
  },
  {
   "cell_type": "code",
   "execution_count": 8,
   "metadata": {},
   "outputs": [
    {
     "data": {
      "text/plain": [
       "10803028"
      ]
     },
     "execution_count": 8,
     "metadata": {},
     "output_type": "execute_result"
    }
   ],
   "source": [
    "# lets check how many rows are there in file or should say total number of tickets\n",
    "NYC_df.count()"
   ]
  },
  {
   "cell_type": "code",
   "execution_count": 9,
   "metadata": {},
   "outputs": [
    {
     "data": {
      "text/plain": [
       "10803028"
      ]
     },
     "execution_count": 9,
     "metadata": {},
     "output_type": "execute_result"
    }
   ],
   "source": [
    "# lets see if there are any rows having null \n",
    "NYC_df.dropna(how = 'any').count()  #total number of row count was also 10803028, which means there are no rows having null values"
   ]
  },
  {
   "cell_type": "code",
   "execution_count": 10,
   "metadata": {},
   "outputs": [
    {
     "data": {
      "text/plain": [
       "2063"
      ]
     },
     "execution_count": 10,
     "metadata": {},
     "output_type": "execute_result"
    }
   ],
   "source": [
    "NYC_df.select('Issue Date').distinct().count()"
   ]
  },
  {
   "cell_type": "markdown",
   "metadata": {},
   "source": [
    "import pandas as pd\n",
    "import matplotlib.pyplot as plt\n",
    "plt.clf()\n",
    "NYC_pdDF = NYC_df.toPandas()\n",
    "NYC_pdDF.plot(x='Issue Date', y='Violation Code', kind='bar', rot=45)\n",
    "plt.show()"
   ]
  },
  {
   "cell_type": "markdown",
   "metadata": {},
   "source": [
    "## Examine the data"
   ]
  },
  {
   "cell_type": "code",
   "execution_count": 11,
   "metadata": {},
   "outputs": [
    {
     "data": {
      "text/plain": [
       "67"
      ]
     },
     "execution_count": 11,
     "metadata": {},
     "output_type": "execute_result"
    }
   ],
   "source": [
    "#1.Find the total number of tickets for the year\n",
    "NYC_df.select('Registration State').distinct().count()"
   ]
  },
  {
   "cell_type": "code",
   "execution_count": 12,
   "metadata": {},
   "outputs": [
    {
     "name": "stdout",
     "output_type": "stream",
     "text": [
      "+------------------+--------+\n",
      "|Registration State|   count|\n",
      "+------------------+--------+\n",
      "|              null|10803028|\n",
      "|                NY| 8481061|\n",
      "|                NJ|  925965|\n",
      "|                PA|  285419|\n",
      "|                FL|  144556|\n",
      "|                CT|  141088|\n",
      "|                MA|   85547|\n",
      "|                IN|   80749|\n",
      "|                VA|   72626|\n",
      "|                MD|   61800|\n",
      "|                NC|   55806|\n",
      "|                IL|   37329|\n",
      "|                GA|   36852|\n",
      "|                99|   36625|\n",
      "|                TX|   36516|\n",
      "|                AZ|   26426|\n",
      "|                OH|   25302|\n",
      "|                CA|   24260|\n",
      "|                SC|   21836|\n",
      "|                ME|   21574|\n",
      "+------------------+--------+\n",
      "only showing top 20 rows\n",
      "\n"
     ]
    }
   ],
   "source": [
    "#2.a.Find out the number of unique states from where the cars that got parking tickets came.Hint: Use the column 'Registration State'.\n",
    "from pyspark.sql.functions import col\n",
    "NYC_df.cube('Registration State').count().sort(col(\"count\").desc()).show()\n"
   ]
  },
  {
   "cell_type": "code",
   "execution_count": 13,
   "metadata": {},
   "outputs": [],
   "source": [
    "#2.b.There is a numeric entry '99' in the column, which should be corrected. Replace it with the state having the maximum entries.\n",
    " \n",
    "from pyspark.sql.functions import when\n",
    "\n",
    "NYC_df1 = NYC_df.withColumn(\"Registration State\", \\\n",
    "              when(NYC_df[\"Registration State\"] == '99', 'NY').otherwise(NYC_df[\"Registration State\"]))\n"
   ]
  },
  {
   "cell_type": "code",
   "execution_count": 14,
   "metadata": {},
   "outputs": [
    {
     "name": "stdout",
     "output_type": "stream",
     "text": [
      "+------------------+--------+\n",
      "|Registration State|   count|\n",
      "+------------------+--------+\n",
      "|              null|10803028|\n",
      "|                NY| 8517686|\n",
      "|                NJ|  925965|\n",
      "|                PA|  285419|\n",
      "|                FL|  144556|\n",
      "|                CT|  141088|\n",
      "|                MA|   85547|\n",
      "|                IN|   80749|\n",
      "|                VA|   72626|\n",
      "|                MD|   61800|\n",
      "|                NC|   55806|\n",
      "|                IL|   37329|\n",
      "|                GA|   36852|\n",
      "|                TX|   36516|\n",
      "|                AZ|   26426|\n",
      "|                OH|   25302|\n",
      "|                CA|   24260|\n",
      "|                SC|   21836|\n",
      "|                ME|   21574|\n",
      "|                MN|   18227|\n",
      "+------------------+--------+\n",
      "only showing top 20 rows\n",
      "\n"
     ]
    }
   ],
   "source": [
    "#2.b.Provide the number of unique states again\n",
    "NYC_df1.cube('Registration State').count().sort(col(\"count\").desc()).show()  "
   ]
  },
  {
   "cell_type": "markdown",
   "metadata": {},
   "source": [
    "#### 8481061(NY)+36625(99) = 8517686(When NY replaced value 99)"
   ]
  },
  {
   "cell_type": "markdown",
   "metadata": {},
   "source": [
    "## Aggregation tasks"
   ]
  },
  {
   "cell_type": "code",
   "execution_count": 15,
   "metadata": {},
   "outputs": [
    {
     "name": "stdout",
     "output_type": "stream",
     "text": [
      "+--------------+--------+\n",
      "|Violation Code|   count|\n",
      "+--------------+--------+\n",
      "|          null|10803028|\n",
      "|            21| 1528588|\n",
      "|            36| 1400614|\n",
      "|            38| 1062304|\n",
      "|            14|  893498|\n",
      "|            20|  618593|\n",
      "+--------------+--------+\n",
      "only showing top 6 rows\n",
      "\n"
     ]
    }
   ],
   "source": [
    "#1.How often does each violation code occur? Display the frequency of the top five violation codes.\n",
    "NYC_df.cube('Violation Code').count().sort(col(\"count\").desc()).show(6)"
   ]
  },
  {
   "cell_type": "code",
   "execution_count": 16,
   "metadata": {},
   "outputs": [
    {
     "name": "stdout",
     "output_type": "stream",
     "text": [
      "+-----------------+--------+\n",
      "|Vehicle Body Type|   count|\n",
      "+-----------------+--------+\n",
      "|             null|10803028|\n",
      "|             SUBN| 3719802|\n",
      "|             4DSD| 3082020|\n",
      "|              VAN| 1411970|\n",
      "|             DELV|  687330|\n",
      "|              SDN|  438191|\n",
      "+-----------------+--------+\n",
      "only showing top 6 rows\n",
      "\n"
     ]
    }
   ],
   "source": [
    "#2.a.How often does each 'vehicle body type' get a parking ticket? \n",
    "NYC_df.cube('Vehicle Body Type').count().sort(col(\"count\").desc()).show(6)"
   ]
  },
  {
   "cell_type": "code",
   "execution_count": 17,
   "metadata": {},
   "outputs": [
    {
     "name": "stdout",
     "output_type": "stream",
     "text": [
      "+------------+--------+\n",
      "|Vehicle Make|   count|\n",
      "+------------+--------+\n",
      "|        null|10803028|\n",
      "|        FORD| 1280958|\n",
      "|       TOYOT| 1211451|\n",
      "|       HONDA| 1079238|\n",
      "|       NISSA|  918590|\n",
      "|       CHEVR|  714655|\n",
      "+------------+--------+\n",
      "only showing top 6 rows\n",
      "\n"
     ]
    }
   ],
   "source": [
    "#2.b.How about the 'vehicle make'? \n",
    "NYC_df.cube('Vehicle Make').count().sort(col(\"count\").desc()).show(6)"
   ]
  },
  {
   "cell_type": "code",
   "execution_count": 18,
   "metadata": {},
   "outputs": [
    {
     "name": "stdout",
     "output_type": "stream",
     "text": [
      "+------------------+--------+\n",
      "|Violation Precinct|   count|\n",
      "+------------------+--------+\n",
      "|              null|10803028|\n",
      "|                 0| 2072400|\n",
      "|                19|  535671|\n",
      "|                14|  352450|\n",
      "|                 1|  331810|\n",
      "|                18|  306920|\n",
      "+------------------+--------+\n",
      "only showing top 6 rows\n",
      "\n"
     ]
    }
   ],
   "source": [
    "#3.A precinct is a police station that has a certain zone of the city under its command. \n",
    "#Find the (5 highest) frequencies of tickets for each of the following:\n",
    "\n",
    "#3.1.'Violation Precinct' (This is the precinct of the zone where the violation occurred). \n",
    "#Using this, can you draw any insights for parking violations in any specific areas of the city?\n",
    "NYC_df.cube('Violation Precinct').count().sort(col(\"count\").desc()).show(6)"
   ]
  },
  {
   "cell_type": "markdown",
   "metadata": {},
   "source": [
    "#### There is default value 0 with most of the vialotions, which doesn't seem to be right"
   ]
  },
  {
   "cell_type": "code",
   "execution_count": 19,
   "metadata": {},
   "outputs": [
    {
     "name": "stdout",
     "output_type": "stream",
     "text": [
      "+---------------+--------+\n",
      "|Issuer Precinct|   count|\n",
      "+---------------+--------+\n",
      "|           null|10803028|\n",
      "|              0| 2388479|\n",
      "|             19|  521513|\n",
      "|             14|  344977|\n",
      "|              1|  321170|\n",
      "|             18|  296553|\n",
      "+---------------+--------+\n",
      "only showing top 6 rows\n",
      "\n"
     ]
    }
   ],
   "source": [
    "#3.2.'Issuer Precinct' (This is the precinct that issued the ticket.)\n",
    "#Here, you would have noticed that the dataframe has the'Violating Precinct' or 'Issuing Precinct' as '0'. \n",
    "#These are erroneous entries. Hence, you need to provide the records for five correct precincts. \n",
    "#(Hint: Print the top six entries after sorting.)\n",
    "NYC_df.cube('Issuer Precinct').count().sort(col(\"count\").desc()).show(6)"
   ]
  },
  {
   "cell_type": "code",
   "execution_count": 20,
   "metadata": {},
   "outputs": [],
   "source": [
    "#4.Find the violation code frequencies for three precincts that have issued the most number of tickets. \n",
    "#Do these precinct zones have an exceptionally high frequency of certain violation codes? \n",
    "#Are these codes common across precincts? \n",
    "#(Hint: In the SQL view, use the 'where' attribute to filter among three precincts.)\n",
    "\n",
    "#lets first creat a temp table"
   ]
  },
  {
   "cell_type": "code",
   "execution_count": 21,
   "metadata": {
    "scrolled": true
   },
   "outputs": [
    {
     "name": "stdout",
     "output_type": "stream",
     "text": [
      "+--------------+--------+------------------+-------------------+--------------+-----------------+------------+------------------+---------------+--------------+\n",
      "|Summons Number|Plate ID|Registration State|         Issue Date|Violation Code|Vehicle Body Type|Vehicle Make|Violation Precinct|Issuer Precinct|Violation Time|\n",
      "+--------------+--------+------------------+-------------------+--------------+-----------------+------------+------------------+---------------+--------------+\n",
      "|    5092469481| GZH7067|                NY|2016-07-10 00:00:00|             7|             SUBN|       TOYOT|                 0|              0|         0143A|\n",
      "|    5092451658| GZH7067|                NY|2016-07-08 00:00:00|             7|             SUBN|       TOYOT|                 0|              0|         0400P|\n",
      "|    4006265037| FZX9232|                NY|2016-08-23 00:00:00|             5|             SUBN|        FORD|                 0|              0|         0233P|\n",
      "|    8478629828| 66623ME|                NY|2017-06-14 00:00:00|            47|             REFG|       MITSU|                14|             14|         1120A|\n",
      "|    7868300310| 37033JV|                NY|2016-11-21 00:00:00|            69|             DELV|       INTER|                13|             13|         0555P|\n",
      "+--------------+--------+------------------+-------------------+--------------+-----------------+------------+------------------+---------------+--------------+\n",
      "only showing top 5 rows\n",
      "\n"
     ]
    }
   ],
   "source": [
    "# register DataFrame as temp table\n",
    "NYC_df.createOrReplaceTempView(\"NYC_dfTable\")\n",
    "spark.sql('SELECT * FROM NYC_dfTable').show(5)"
   ]
  },
  {
   "cell_type": "code",
   "execution_count": 22,
   "metadata": {},
   "outputs": [
    {
     "name": "stdout",
     "output_type": "stream",
     "text": [
      "+---------------+--------------+---------------------+\n",
      "|Issuer Precinct|violation code|count(violation code)|\n",
      "+---------------+--------------+---------------------+\n",
      "|             19|            46|                86390|\n",
      "|             14|            14|                73837|\n",
      "|              1|            14|                73522|\n",
      "|             19|            37|                72437|\n",
      "|             19|            38|                72344|\n",
      "|             14|            69|                58026|\n",
      "|             19|            14|                57563|\n",
      "|             19|            21|                54700|\n",
      "|             14|            31|                39857|\n",
      "|              1|            16|                38937|\n",
      "|             19|            16|                31353|\n",
      "|             14|            47|                30540|\n",
      "|              1|            20|                27841|\n",
      "|             19|            20|                27352|\n",
      "|              1|            46|                22534|\n",
      "|             19|            40|                21513|\n",
      "|             14|            42|                20663|\n",
      "|              1|            38|                16989|\n",
      "|             19|            71|                15107|\n",
      "|              1|            17|                13811|\n",
      "+---------------+--------------+---------------------+\n",
      "only showing top 20 rows\n",
      "\n"
     ]
    }
   ],
   "source": [
    "#4.2 now lets fetch the maxinmum violation code counts for top three Issuer Precinct i.e. 19,14 and 1(as obtained from earlier tasks answer)\n",
    "spark.sql('SELECT `Issuer Precinct`,`violation code`,count(`violation code`) FROM NYC_dfTable where `Issuer Precinct` in (19,14,1) group by `Issuer Precinct`,`violation code` order by count(`violation code`) desc ').show()"
   ]
  },
  {
   "cell_type": "markdown",
   "metadata": {},
   "source": [
    "#### Above query results show that maximum parking violations in Issuer Precinct# 19 are due to Double Parking(code# 46),followed by General No Standing(code# 14) in Issuer Precinct# 14 and 1"
   ]
  },
  {
   "cell_type": "code",
   "execution_count": 23,
   "metadata": {},
   "outputs": [
    {
     "name": "stdout",
     "output_type": "stream",
     "text": [
      "+--------------+--------------+---------------------+\n",
      "|Violation Time|violation code|count(violation code)|\n",
      "+--------------+--------------+---------------------+\n",
      "|         0836A|            21|                17213|\n",
      "|         1136A|            21|                14143|\n",
      "|         0840A|            21|                13140|\n",
      "|         1140A|            21|                12917|\n",
      "|         0806A|            21|                12525|\n",
      "|         0838A|            21|                12266|\n",
      "|         0837A|            21|                12023|\n",
      "|         0839A|            21|                11962|\n",
      "|         0936A|            21|                11747|\n",
      "|         0841A|            21|                11363|\n",
      "|         0842A|            21|                11060|\n",
      "|         1138A|            21|                11041|\n",
      "|         1139A|            21|                10917|\n",
      "|         0845A|            21|                10858|\n",
      "|         1145A|            21|                10752|\n",
      "|         1142A|            21|                10670|\n",
      "|         0843A|            21|                10664|\n",
      "|         1141A|            21|                10658|\n",
      "|         1137A|            21|                10617|\n",
      "|         0906A|            21|                10541|\n",
      "+--------------+--------------+---------------------+\n",
      "only showing top 20 rows\n",
      "\n"
     ]
    }
   ],
   "source": [
    "#5.Find out the properties of parking violations across different times of the day:\n",
    "\n",
    "# lets see what are top 20 violations happenning as per violation time \n",
    "spark.sql('SELECT `Violation Time`,`violation code`,count(`violation code`) FROM NYC_dfTable group by `Violation Time`,`violation code` order by count(`violation code`) desc ').show()\n"
   ]
  },
  {
   "cell_type": "markdown",
   "metadata": {},
   "source": [
    "#### Above shows most of the violation happenning are for violation code#21(Street Cleaning)"
   ]
  },
  {
   "cell_type": "code",
   "execution_count": 24,
   "metadata": {},
   "outputs": [
    {
     "name": "stdout",
     "output_type": "stream",
     "text": [
      "+--------------+--------+------------------+----------+--------------+-----------------+------------+------------------+---------------+--------------+\n",
      "|Summons Number|Plate ID|Registration State|Issue Date|Violation Code|Vehicle Body Type|Vehicle Make|Violation Precinct|Issuer Precinct|Violation Time|\n",
      "+--------------+--------+------------------+----------+--------------+-----------------+------------+------------------+---------------+--------------+\n",
      "+--------------+--------+------------------+----------+--------------+-----------------+------------+------------------+---------------+--------------+\n",
      "\n"
     ]
    }
   ],
   "source": [
    "#5.1.Find a way to deal with missing values, if any.\n",
    "#(Hint: Check for the null values using 'isNull' under the SQL. Also, to remove the null values, check the 'dropna' command in the API documentation.)\n",
    "spark.sql('SELECT * FROM NYC_dfTable where `Violation Time` is Null or `Violation Time` = \"\" ').show()"
   ]
  },
  {
   "cell_type": "markdown",
   "metadata": {},
   "source": [
    "#### As per above Violation Time doesn't seem to have any NULL or empty values"
   ]
  },
  {
   "cell_type": "code",
   "execution_count": 25,
   "metadata": {},
   "outputs": [
    {
     "name": "stdout",
     "output_type": "stream",
     "text": [
      "+--------------+--------+------------------+-------------------+--------------+-----------------+------------+------------------+---------------+--------------+--------------+-------------+--------------+\n",
      "|Summons Number|Plate ID|Registration State|         Issue Date|Violation Code|Vehicle Body Type|Vehicle Make|Violation Precinct|Issuer Precinct|Violation Time|Violation Hour|Violation Min|Violation AMPM|\n",
      "+--------------+--------+------------------+-------------------+--------------+-----------------+------------+------------------+---------------+--------------+--------------+-------------+--------------+\n",
      "|    5092469481| GZH7067|                NY|2016-07-10 00:00:00|             7|             SUBN|       TOYOT|                 0|              0|         0143A|            01|           43|             A|\n",
      "|    5092451658| GZH7067|                NY|2016-07-08 00:00:00|             7|             SUBN|       TOYOT|                 0|              0|         0400P|            04|           00|             P|\n",
      "|    4006265037| FZX9232|                NY|2016-08-23 00:00:00|             5|             SUBN|        FORD|                 0|              0|         0233P|            02|           33|             P|\n",
      "|    8478629828| 66623ME|                NY|2017-06-14 00:00:00|            47|             REFG|       MITSU|                14|             14|         1120A|            11|           20|             A|\n",
      "|    7868300310| 37033JV|                NY|2016-11-21 00:00:00|            69|             DELV|       INTER|                13|             13|         0555P|            05|           55|             P|\n",
      "|    5096917368| FZD8593|                NY|2017-06-13 00:00:00|             7|             SUBN|       ME/BE|                 0|              0|         0852P|            08|           52|             P|\n",
      "|    1413609545|  X20DCM|                NJ|2016-08-03 00:00:00|            40|              SDN|       TOYOT|                71|             71|         0215A|            02|           15|             A|\n",
      "|    4628525523|  326SF9|                MA|2016-12-21 00:00:00|            36|               UT|         BMW|                 0|              0|         0758A|            07|           58|             A|\n",
      "|    4627113330| HCA5464|                NY|2016-11-21 00:00:00|            36|             SUBN|       DODGE|                 0|              0|         1005A|            10|           05|             A|\n",
      "|    4006478550| VAD7274|                VA|2016-10-05 00:00:00|             5|               4D|         BMW|                 0|              0|         0845A|            08|           45|             A|\n",
      "|    1407740258| 2513JMG|                NY|2017-01-11 00:00:00|            78|             DELV|       FRUEH|               106|            106|         0015A|            00|           15|             A|\n",
      "|    8009901763| 13657MD|                NY|2016-09-27 00:00:00|            19|             DELV|       KENWO|                18|             18|         0707A|            07|           07|             A|\n",
      "|    4625926610|N102911C|                NY|2016-10-27 00:00:00|            36|              VAN|        FORD|                 0|              0|         1022A|            10|           22|             A|\n",
      "|    1416492320| FGR5997|                NY|2016-09-30 00:00:00|            21|              SDN|       NISSA|                44|             44|         1150A|            11|           50|             A|\n",
      "|    1413656420|T672371C|                NY|2017-02-04 00:00:00|            40|             TAXI|       TOYOT|                73|             73|         0525A|            05|           25|             A|\n",
      "|    7959486440| GYF2052|                NY|2016-07-07 00:00:00|            71|             4DSD|       VOLKS|               120|            120|         0645P|            06|           45|             P|\n",
      "|    5093620865| AD80228|                AZ|2016-09-24 00:00:00|             7|               TK|        FORD|                 0|              0|         1122A|            11|           22|             A|\n",
      "|    8480309064| 51771JW|                NY|2017-01-26 00:00:00|            64|              VAN|       INTER|                17|             17|         0256P|            02|           56|             P|\n",
      "|    1416638830|  GLP367|                NY|2017-04-30 00:00:00|            20|             SUBN|       DODGE|                17|             17|         1232A|            12|           32|             A|\n",
      "|    4630524241|  HJBP29|                FL|2017-02-03 00:00:00|            36|               4D|         BMW|                 0|              0|         1034A|            10|           34|             A|\n",
      "+--------------+--------+------------------+-------------------+--------------+-----------------+------------+------------------+---------------+--------------+--------------+-------------+--------------+\n",
      "only showing top 20 rows\n",
      "\n"
     ]
    }
   ],
   "source": [
    "#5.2.The Violation Time field is specified in a strange format. Find a way to make this a time attribute that you can use to divide into groups.\n",
    "from pyspark.sql.types import StringType\n",
    "from pyspark.sql.functions import udf\n",
    "\n",
    "NYC_df_HR = udf(lambda x:x[0:2],StringType())\n",
    "NYC_df_MIN = udf(lambda x:x[2:4],StringType())\n",
    "NYC_df_AMPM = udf(lambda x:x[4:5],StringType())\n",
    "NYC_df = NYC_df.withColumn('Violation Hour',NYC_df_HR('Violation Time'))\n",
    "NYC_df = NYC_df.withColumn('Violation Min',NYC_df_MIN('Violation Time'))\n",
    "NYC_df = NYC_df.withColumn('Violation AMPM',NYC_df_AMPM('Violation Time'))\n",
    "NYC_df.show()"
   ]
  },
  {
   "cell_type": "code",
   "execution_count": 26,
   "metadata": {},
   "outputs": [
    {
     "name": "stdout",
     "output_type": "stream",
     "text": [
      "+--------------+--------+------------------+-------------------+--------------+-----------------+------------+------------------+---------------+--------------+--------------+-------------+--------------+\n",
      "|Summons Number|Plate ID|Registration State|         Issue Date|Violation Code|Vehicle Body Type|Vehicle Make|Violation Precinct|Issuer Precinct|Violation Time|Violation Hour|Violation Min|Violation AMPM|\n",
      "+--------------+--------+------------------+-------------------+--------------+-----------------+------------+------------------+---------------+--------------+--------------+-------------+--------------+\n",
      "|    5092469481| GZH7067|                NY|2016-07-10 00:00:00|             7|             SUBN|       TOYOT|                 0|              0|         0143A|            01|           43|             A|\n",
      "|    5092451658| GZH7067|                NY|2016-07-08 00:00:00|             7|             SUBN|       TOYOT|                 0|              0|         0400P|            04|           00|             P|\n",
      "|    4006265037| FZX9232|                NY|2016-08-23 00:00:00|             5|             SUBN|        FORD|                 0|              0|         0233P|            02|           33|             P|\n",
      "|    8478629828| 66623ME|                NY|2017-06-14 00:00:00|            47|             REFG|       MITSU|                14|             14|         1120A|            11|           20|             A|\n",
      "|    7868300310| 37033JV|                NY|2016-11-21 00:00:00|            69|             DELV|       INTER|                13|             13|         0555P|            05|           55|             P|\n",
      "+--------------+--------+------------------+-------------------+--------------+-----------------+------------+------------------+---------------+--------------+--------------+-------------+--------------+\n",
      "only showing top 5 rows\n",
      "\n"
     ]
    }
   ],
   "source": [
    "##Updating the SQL object\n",
    "NYC_df.createOrReplaceTempView(\"NYC_dfTable\")\n",
    "spark.sql('SELECT * FROM NYC_dfTable').show(5)"
   ]
  },
  {
   "cell_type": "code",
   "execution_count": 27,
   "metadata": {},
   "outputs": [
    {
     "name": "stdout",
     "output_type": "stream",
     "text": [
      "+--------------+---------------------+-------------+\n",
      "|violation code|count(violation code)|     time_bin|\n",
      "+--------------+---------------------+-------------+\n",
      "|            21|              1182689|group08to11AM|\n",
      "|            36|               751422|group08to11AM|\n",
      "|            36|               588395|group12to03PM|\n",
      "|            38|               462756|group12to03PM|\n",
      "|            38|               346518|group08to11AM|\n",
      "|            37|               337074|group12to03PM|\n",
      "|            14|               274288|group08to11AM|\n",
      "|            14|               256302|group12to03PM|\n",
      "|            46|               229325|group12to03PM|\n",
      "|            20|               219182|group12to03PM|\n",
      "|            46|               213696|group08to11AM|\n",
      "|            38|               203232|group04to07PM|\n",
      "|            71|               201379|group12to03PM|\n",
      "|            71|               192307|group08to11AM|\n",
      "|            20|               175688|group08to11AM|\n",
      "|            21|               148008|group12to03PM|\n",
      "|            37|               145784|group04to07PM|\n",
      "|            14|               144749|group04to07PM|\n",
      "|             7|               144533|group12to03PM|\n",
      "|            14|               141276|group04to07AM|\n",
      "|            40|               132488|group08to11AM|\n",
      "|             7|               131768|group04to07PM|\n",
      "|            40|               131295|group12to03PM|\n",
      "|            21|               119469|group04to07AM|\n",
      "|            40|               112186|group04to07AM|\n",
      "|            70|               106604|group12to03PM|\n",
      "|             7|               105144|group08to11AM|\n",
      "|            70|               101341|group08to11AM|\n",
      "|            37|               101230|group08to11AM|\n",
      "|            19|               101114|group12to03PM|\n",
      "|            19|                92093|group08to11AM|\n",
      "|            46|                85551|group04to07PM|\n",
      "|            20|                84647|group04to07AM|\n",
      "|            20|                83348|group04to07PM|\n",
      "|            69|                75293|group08to11AM|\n",
      "|            69|                71275|group12to03PM|\n",
      "|            31|                69018|group12to03PM|\n",
      "|            71|                67037|group04to07PM|\n",
      "|             7|                65593|group08to11PM|\n",
      "|            16|                65407|group08to11AM|\n",
      "|            16|                63285|group12to03PM|\n",
      "|             5|                63233|group04to07PM|\n",
      "|            47|                56224|group08to11AM|\n",
      "|            21|                53600|group12to03AM|\n",
      "|            40|                48107|group04to07PM|\n",
      "|            38|                47029|group08to11PM|\n",
      "|            14|                44779|group08to11PM|\n",
      "|            40|                44738|group12to03AM|\n",
      "|            40|                44542|group08to11PM|\n",
      "|             7|                44060|group04to07AM|\n",
      "|            71|                43432|group04to07AM|\n",
      "|            47|                40581|group12to03PM|\n",
      "|            42|                39016|group12to03PM|\n",
      "|            74|                38262|group08to11AM|\n",
      "|            48|                37287|group12to03PM|\n",
      "|             5|                36564|group12to03PM|\n",
      "|            19|                36171|group04to07PM|\n",
      "|            31|                35633|group08to11AM|\n",
      "|            70|                35622|group04to07PM|\n",
      "|            74|                35562|group12to03PM|\n",
      "|            36|                33939|group04to07AM|\n",
      "|             5|                33793|group08to11AM|\n",
      "|            46|                32489|group04to07AM|\n",
      "|            19|                32383|group04to07AM|\n",
      "|            84|                31901|group08to11AM|\n",
      "|            31|                31678|group04to07PM|\n",
      "|            20|                31085|group08to11PM|\n",
      "|            48|                29571|group08to11AM|\n",
      "|            50|                29340|group08to11AM|\n",
      "|            78|                28716|group12to03AM|\n",
      "|            50|                27060|group12to03PM|\n",
      "|            36|                26858|group04to07PM|\n",
      "|            17|                25933|group12to03PM|\n",
      "|             7|                25297|group12to03AM|\n",
      "|            46|                25133|group08to11PM|\n",
      "|            24|                25010|group12to03PM|\n",
      "|            14|                24081|group12to03AM|\n",
      "|            21|                23908|         null|\n",
      "|            17|                23219|group08to11AM|\n",
      "|             9|                23067|group04to07PM|\n",
      "|            70|                21242|group04to07AM|\n",
      "|            78|                21027|group08to11PM|\n",
      "|            69|                20664|group04to07AM|\n",
      "|            20|                20504|group12to03AM|\n",
      "|            51|                20461|group12to03PM|\n",
      "|            50|                20334|group04to07AM|\n",
      "|            24|                19780|group08to11AM|\n",
      "|            68|                18718|group12to03PM|\n",
      "|             9|                18649|group08to11AM|\n",
      "|            84|                18253|group04to07AM|\n",
      "|            16|                17878|group04to07PM|\n",
      "|            19|                17782|group08to11PM|\n",
      "|            10|                17510|group08to11AM|\n",
      "|            10|                17428|group12to03PM|\n",
      "|            51|                17387|group08to11AM|\n",
      "|            84|                17347|group12to03PM|\n",
      "|            24|                16866|group04to07AM|\n",
      "|            69|                16180|group04to07PM|\n",
      "|            42|                15148|group08to11AM|\n",
      "|            74|                14611|group04to07PM|\n",
      "+--------------+---------------------+-------------+\n",
      "only showing top 100 rows\n",
      "\n"
     ]
    }
   ],
   "source": [
    "#5.3 Divide 24 hours into six equal discrete bins of time. Choose the intervals as you see fit. For each of these groups, find the three most commonly occurring violations.\n",
    "spark.sql('SELECT `violation code`,count(`violation code`), \\\n",
    "            case \\\n",
    "            when `Violation Hour` IN (\"12\",\"01\",\"02\",\"03\") and `Violation AMPM` = \"A\" THEN \"group12to03AM\" \\\n",
    "            when `Violation Hour` IN (\"04\",\"05\",\"06\",\"07\") and `Violation AMPM` = \"A\" THEN \"group04to07AM\" \\\n",
    "            when `Violation Hour` IN (\"08\",\"09\",\"10\",\"11\") and `Violation AMPM` = \"A\" THEN \"group08to11AM\" \\\n",
    "            when `Violation Hour` IN (\"12\",\"01\",\"02\",\"03\") and `Violation AMPM` = \"P\" THEN \"group12to03PM\" \\\n",
    "            when `Violation Hour` IN (\"04\",\"05\",\"06\",\"07\") and `Violation AMPM` = \"P\" THEN \"group04to07PM\" \\\n",
    "            when `Violation Hour` IN (\"08\",\"09\",\"10\",\"11\") and `Violation AMPM` = \"P\" THEN \"group08to11PM\" \\\n",
    "            END AS time_bin \\\n",
    "            FROM NYC_dfTable \\\n",
    "            group by `violation code`,time_bin\\\n",
    "            order by count(`violation code`) desc').show(100)"
   ]
  },
  {
   "cell_type": "markdown",
   "metadata": {},
   "source": [
    "### The results are as below. \n",
    "There are 6 bins and their top violation codes are as below. \n",
    "\n",
    "group12to03AM -- Violation Codes are 21, 40, 78\n",
    "\n",
    "group04to07AM -- Violation Codes are 14, 21, 40\n",
    "\n",
    "group08to11AM -- Violation Codes are 21,36,38\n",
    "\n",
    "group12to03PM -- Violation Codes are 36,38,37\n",
    "\n",
    "group04to07PM -- Violation Codes are 38,37,14\n",
    "\n",
    "group08to11PM -- Violation Codes are 7,38,14\n",
    "\n"
   ]
  },
  {
   "cell_type": "code",
   "execution_count": 28,
   "metadata": {},
   "outputs": [
    {
     "name": "stdout",
     "output_type": "stream",
     "text": [
      "+--------------+---------------------+-------------+\n",
      "|violation code|count(violation code)|     time_bin|\n",
      "+--------------+---------------------+-------------+\n",
      "|            21|              1182689|group08to11AM|\n",
      "|            36|               751422|group08to11AM|\n",
      "|            36|               588395|group12to03PM|\n",
      "|            38|               462756|group12to03PM|\n",
      "|            38|               346518|group08to11AM|\n",
      "|            38|               203232|group04to07PM|\n",
      "|            21|               148008|group12to03PM|\n",
      "|            21|               119469|group04to07AM|\n",
      "|            21|                53600|group12to03AM|\n",
      "|            38|                47029|group08to11PM|\n",
      "|            36|                33939|group04to07AM|\n",
      "|            36|                26858|group04to07PM|\n",
      "|            21|                23908|         null|\n",
      "|            38|                 2300|group04to07AM|\n",
      "|            21|                  551|group04to07PM|\n",
      "|            38|                  452|group12to03AM|\n",
      "|            21|                  363|group08to11PM|\n",
      "|            38|                   17|         null|\n",
      "+--------------+---------------------+-------------+\n",
      "\n"
     ]
    }
   ],
   "source": [
    "## 5.4 Now, try another direction. For the three most commonly occurring violation codes, find the most common time of the day (in terms of the bins from the previous part).\n",
    "spark.sql('SELECT `violation code`,count(`violation code`), \\\n",
    "            case \\\n",
    "            when `Violation Hour` IN (\"12\",\"01\",\"02\",\"03\") and `Violation AMPM` = \"A\" THEN \"group12to03AM\" \\\n",
    "            when `Violation Hour` IN (\"04\",\"05\",\"06\",\"07\") and `Violation AMPM` = \"A\" THEN \"group04to07AM\" \\\n",
    "            when `Violation Hour` IN (\"08\",\"09\",\"10\",\"11\") and `Violation AMPM` = \"A\" THEN \"group08to11AM\" \\\n",
    "            when `Violation Hour` IN (\"12\",\"01\",\"02\",\"03\") and `Violation AMPM` = \"P\" THEN \"group12to03PM\" \\\n",
    "            when `Violation Hour` IN (\"04\",\"05\",\"06\",\"07\") and `Violation AMPM` = \"P\" THEN \"group04to07PM\" \\\n",
    "            when `Violation Hour` IN (\"08\",\"09\",\"10\",\"11\") and `Violation AMPM` = \"P\" THEN \"group08to11PM\" \\\n",
    "            END AS time_bin \\\n",
    "            FROM NYC_dfTable \\\n",
    "            where `violation code` in (21,36,38) \\\n",
    "            group by `violation code`,time_bin\\\n",
    "            order by count(`violation code`) desc').show(100)"
   ]
  },
  {
   "cell_type": "markdown",
   "metadata": {},
   "source": [
    "## The results\n",
    "From the 5.3 we know top occuring codes are 21,36,38 and the time bins which they occur the most(In Descending order) are as below. \n",
    "\n",
    "For code 21: group08to11AM,group12to03PM, group04to07AM\n",
    "\n",
    "For Code 36: group08to11AM, group12to03PM, group04to07AM\n",
    "\n",
    "For Code 38: group12to03PM, group08to11AM, group04to07PM"
   ]
  },
  {
   "cell_type": "code",
   "execution_count": 29,
   "metadata": {},
   "outputs": [
    {
     "name": "stdout",
     "output_type": "stream",
     "text": [
      "+-----------------+\n",
      "|Winter_Violations|\n",
      "+-----------------+\n",
      "|          2485331|\n",
      "+-----------------+\n",
      "\n",
      "+-----------------+\n",
      "|Spring_Violations|\n",
      "+-----------------+\n",
      "|          2880687|\n",
      "+-----------------+\n",
      "\n",
      "+-----------------+\n",
      "|Summer_Violations|\n",
      "+-----------------+\n",
      "|          2606208|\n",
      "+-----------------+\n",
      "\n",
      "+---------------+\n",
      "|Fall_Violations|\n",
      "+---------------+\n",
      "|        2830802|\n",
      "+---------------+\n",
      "\n"
     ]
    }
   ],
   "source": [
    "## 6.1 First, divide the year into a certain number of seasons, and find frequencies of tickets for each season.\n",
    "spark.sql('SELECT count(`violation code`) as Winter_Violations\\\n",
    "            FROM NYC_dfTable \\\n",
    "            where Month(`Issue Date`) in (01,02,12)').show()\n",
    "spark.sql('SELECT count(`violation code`) as Spring_Violations\\\n",
    "            FROM NYC_dfTable \\\n",
    "            where Month(`Issue Date`) in (03,04,05)').show()\n",
    "spark.sql('SELECT count(`violation code`) as Summer_Violations\\\n",
    "            FROM NYC_dfTable \\\n",
    "            where Month(`Issue Date`) in (06,07,08)').show()\n",
    "spark.sql('SELECT count(`violation code`) as Fall_Violations\\\n",
    "            FROM NYC_dfTable \\\n",
    "            where Month(`Issue Date`) in (09,10,11)').show()\n"
   ]
  },
  {
   "cell_type": "markdown",
   "metadata": {},
   "source": [
    "## The Result\n",
    "We see that the frequency of violations per season as below. \n",
    "\n",
    "Winter(Jan, Feb, December):2485331\n",
    "\n",
    "Spring(March,April,May):2880687\n",
    "\n",
    "Summner(June,July,August):2606208\n",
    "\n",
    "Fall(September,October,November):2830802"
   ]
  },
  {
   "cell_type": "code",
   "execution_count": 30,
   "metadata": {},
   "outputs": [
    {
     "name": "stdout",
     "output_type": "stream",
     "text": [
      "+----------+---------------------+\n",
      "|Winter_TOP|count(violation code)|\n",
      "+----------+---------------------+\n",
      "|        21|               362341|\n",
      "|        36|               359338|\n",
      "|        38|               259723|\n",
      "+----------+---------------------+\n",
      "\n",
      "+----------+---------------------+\n",
      "|Spring_TOP|count(violation code)|\n",
      "+----------+---------------------+\n",
      "|        21|               402807|\n",
      "|        36|               344834|\n",
      "|        38|               271192|\n",
      "+----------+---------------------+\n",
      "\n",
      "+----------+---------------------+\n",
      "|Summer_TOP|count(violation code)|\n",
      "+----------+---------------------+\n",
      "|        21|               405961|\n",
      "|        38|               247561|\n",
      "|        36|               240396|\n",
      "+----------+---------------------+\n",
      "\n",
      "+--------+---------------------+\n",
      "|FAll_TOP|count(violation code)|\n",
      "+--------+---------------------+\n",
      "|      36|               456046|\n",
      "|      21|               357479|\n",
      "|      38|               283828|\n",
      "+--------+---------------------+\n",
      "\n"
     ]
    }
   ],
   "source": [
    "## 6.2 Then, find the three most common violations for each of these seasons.\n",
    "\n",
    "spark.sql('SELECT `violation code` Winter_TOP,count(`violation code`)\\\n",
    "            FROM NYC_dfTable \\\n",
    "            where Month(`Issue Date`) in (01,02,12) \\\n",
    "            group by `violation code` \\\n",
    "            order by count(`violation code`) desc limit 3').show()\n",
    "spark.sql('SELECT `violation code` Spring_TOP,count(`violation code`)\\\n",
    "            FROM NYC_dfTable \\\n",
    "            where Month(`Issue Date`) in (03,04,05) \\\n",
    "            group by `violation code` \\\n",
    "            order by count(`violation code`) desc limit 3').show()\n",
    "spark.sql('SELECT `violation code` Summer_TOP,count(`violation code`)\\\n",
    "            FROM NYC_dfTable \\\n",
    "            where Month(`Issue Date`) in (06,07,08) \\\n",
    "            group by `violation code` \\\n",
    "            order by count(`violation code`) desc limit 3').show()\n",
    "spark.sql('SELECT `violation code` FAll_TOP,count(`violation code`)\\\n",
    "            FROM NYC_dfTable \\\n",
    "            where Month(`Issue Date`) in (09,10,11) \\\n",
    "            group by `violation code` \\\n",
    "            order by count(`violation code`) desc limit 3').show()\n"
   ]
  },
  {
   "cell_type": "markdown",
   "metadata": {},
   "source": [
    "## The Top violation codes as per Season are below.\n",
    "\n",
    "Winter: Code 21 with 362341 violations\n",
    "\n",
    "        Code 36 with 359338 violations\n",
    "        \n",
    "        Code 38 with 259723 violations\n",
    "    \n",
    "Spring: Code 21 with 402807 violations\n",
    "\n",
    "        Code 36 with 344834 violations\n",
    "        \n",
    "        Code 38 with 271192 violations\n",
    "    \n",
    "Sumer: Code 21 with 405961 violations\n",
    "       \n",
    "       Code 38 with 247561 violations\n",
    "       \n",
    "       Code 36 with 240396 violations\n",
    "    \n",
    "Fall: Code 36 with 456046 violations\n",
    "\n",
    "      Code 21 with 357479 violations\n",
    "      \n",
    "      Code 38 with 357479 violations  "
   ]
  },
  {
   "cell_type": "code",
   "execution_count": 31,
   "metadata": {},
   "outputs": [
    {
     "name": "stdout",
     "output_type": "stream",
     "text": [
      "+----------------+---------------------+\n",
      "|Top_3_Violations|count(violation code)|\n",
      "+----------------+---------------------+\n",
      "|              21|              1528588|\n",
      "|              36|              1400614|\n",
      "|              38|              1062304|\n",
      "+----------------+---------------------+\n",
      "\n"
     ]
    }
   ],
   "source": [
    "##The fines collected from all the instances of parking violation constitute a source of revenue for the NYC Police Department. Let’s take an example of estimating this for the three most commonly occurring codes:\n",
    "\n",
    "## 7.1 Find the total occurrences of the three most common violation codes.\n",
    "spark.sql('SELECT `violation code` Top_3_Violations,count(`violation code`)\\\n",
    "            FROM NYC_dfTable \\\n",
    "            group by `violation code` \\\n",
    "            order by count(`violation code`) desc limit 3').show()"
   ]
  },
  {
   "cell_type": "markdown",
   "metadata": {},
   "source": [
    "## The Result\n",
    "\n",
    "The top 2 violations and thier count is as below. \n",
    "\n",
    "Violation code 21 is issued total of 1528588 times.\n",
    "\n",
    "Violation code 36 is issued total of 1400614 times. \n",
    "\n",
    "Violation code 38 is issues total of 1062304 times. \n"
   ]
  },
  {
   "cell_type": "markdown",
   "metadata": {},
   "source": [
    "##7.2 Then, visit the website:http://www1.nyc.gov/site/finance/vehicles/services-violation-codes.page\n",
    "##It lists the fines associated with different violation codes. They’re divided into two categories: one for the highest-density locations in the city and the other for the rest of the city. For the sake of simplicity, take the average of the two.\n",
    "\n",
    "The avg fine for the top 3 violations codes ie 21,36,38 are as below.\n",
    "\n",
    "For violation code 21: 55$\n",
    "    \n",
    "For violation code 36: 50$\n",
    "    \n",
    "For violation code 38: 50$\n",
    "\n"
   ]
  },
  {
   "cell_type": "code",
   "execution_count": 32,
   "metadata": {},
   "outputs": [
    {
     "name": "stdout",
     "output_type": "stream",
     "text": [
      "+----------------------+\n",
      "|Total_Fine_Via_Code_21|\n",
      "+----------------------+\n",
      "|              84072340|\n",
      "+----------------------+\n",
      "\n",
      "+----------------------+\n",
      "|Total_Fine_Via_Code_36|\n",
      "+----------------------+\n",
      "|              70030700|\n",
      "+----------------------+\n",
      "\n",
      "+----------------------+\n",
      "|Total_Fine_Via_Code_38|\n",
      "+----------------------+\n",
      "|              53115200|\n",
      "+----------------------+\n",
      "\n"
     ]
    }
   ],
   "source": [
    "##7.3 Using this information, find the total amount collected for the three violation codes with the maximum tickets. State the code that has the highest total collection.\n",
    "\n",
    "## Total Amount collected with all these 3 ticket codes\n",
    "spark.sql('SELECT count(`violation code`)*55 as Total_Fine_Via_Code_21 \\\n",
    "            FROM NYC_dfTable \\\n",
    "            where `violation code` = 21 \\\n",
    "            group by `violation code`').show()\n",
    "\n",
    "spark.sql('SELECT count(`violation code`)*50 as Total_Fine_Via_Code_36 \\\n",
    "            FROM NYC_dfTable \\\n",
    "            where `violation code` = 36 \\\n",
    "            group by `violation code`').show()\n",
    "\n",
    "spark.sql('SELECT count(`violation code`)*50 as Total_Fine_Via_Code_38 \\\n",
    "            FROM NYC_dfTable \\\n",
    "            where `violation code` = 38 \\\n",
    "            group by `violation code`').show()"
   ]
  },
  {
   "cell_type": "code",
   "execution_count": 33,
   "metadata": {},
   "outputs": [
    {
     "name": "stdout",
     "output_type": "stream",
     "text": [
      "+------------------+--------------+---------------------+\n",
      "|Registration state|violation code|count(violation code)|\n",
      "+------------------+--------------+---------------------+\n",
      "|                NY|            36|              1201013|\n",
      "|                NY|            21|              1145775|\n",
      "|                NY|            38|               842424|\n",
      "|                NJ|            21|               105288|\n",
      "|                NJ|            38|                87051|\n",
      "|                NJ|            36|                71150|\n",
      "|                PA|            21|                59124|\n",
      "|                PA|            36|                34466|\n",
      "|                FL|            21|                31418|\n",
      "|                PA|            38|                27564|\n",
      "+------------------+--------------+---------------------+\n",
      "\n"
     ]
    }
   ],
   "source": [
    "spark.sql('SELECT `Registration state`,`violation code`,count(`violation code`) \\\n",
    "           FROM NYC_dfTable \\\n",
    "           where `violation code` in (21,36,38) \\\n",
    "           group by `violation code`,`Registration state`\\\n",
    "           order by count(`violation code`) desc limit 10').show()"
   ]
  },
  {
   "cell_type": "code",
   "execution_count": 34,
   "metadata": {},
   "outputs": [
    {
     "name": "stdout",
     "output_type": "stream",
     "text": [
      "+-------------------+\n",
      "|NY_Fine_Via_Code_21|\n",
      "+-------------------+\n",
      "|           63017625|\n",
      "+-------------------+\n",
      "\n",
      "+-------------------+\n",
      "|NY_Fine_Via_Code_36|\n",
      "+-------------------+\n",
      "|           66055715|\n",
      "+-------------------+\n",
      "\n",
      "+-------------------+\n",
      "|NY_Fine_Via_Code_38|\n",
      "+-------------------+\n",
      "|           46333320|\n",
      "+-------------------+\n",
      "\n"
     ]
    }
   ],
   "source": [
    "## From the above we can see that the state which has got the most number of cases is NY with this we can calculate the total \n",
    "## Fine collected. \n",
    "spark.sql('SELECT count(`violation code`)*55 as NY_Fine_Via_Code_21 \\\n",
    "            FROM NYC_dfTable \\\n",
    "            where `violation code` = 21 and `Registration state` = \"NY\" \\\n",
    "            group by `violation code`').show()\n",
    "\n",
    "spark.sql('SELECT count(`violation code`)*55 as NY_Fine_Via_Code_36 \\\n",
    "            FROM NYC_dfTable \\\n",
    "            where `violation code` = 36 and `Registration state` = \"NY\"\\\n",
    "            group by `violation code`').show()\n",
    "\n",
    "spark.sql('SELECT count(`violation code`)*55 as NY_Fine_Via_Code_38 \\\n",
    "            FROM NYC_dfTable \\\n",
    "            where `violation code` = 38 and `Registration state` = \"NY\" \\\n",
    "            group by `violation code`').show()\n"
   ]
  },
  {
   "cell_type": "markdown",
   "metadata": {},
   "source": [
    "## The result: \n",
    "\n",
    "The total fine collcted is:63017625+ 66055715 + 46333320 = 175,406,660‬ USD.\n",
    "    \n"
   ]
  },
  {
   "cell_type": "markdown",
   "metadata": {},
   "source": [
    "## 7.3 What can you intuitively infer from these findings?\n",
    "\n",
    "We can infer that most of the parking violations are done by the New York people, and \n",
    "\n",
    "Code 21 \"parking in no parking zone\"\n",
    "\n",
    "Code 36 \"which is Exceeding the posted speed limit in or near a designated school zone\"\n",
    "\n",
    "Code 38 \"Failing to show a receipt or tag in the windshield.Drivers get a 5-minute grace period past the expired time on parking meter receipts\"."
   ]
  },
  {
   "cell_type": "code",
   "execution_count": null,
   "metadata": {},
   "outputs": [],
   "source": []
  }
 ],
 "metadata": {
  "kernelspec": {
   "display_name": "PySpark",
   "language": "python",
   "name": "pyspark"
  },
  "language_info": {
   "codemirror_mode": {
    "name": "ipython",
    "version": 3
   },
   "file_extension": ".py",
   "mimetype": "text/x-python",
   "name": "python",
   "nbconvert_exporter": "python",
   "pygments_lexer": "ipython3",
   "version": "3.6.5"
  }
 },
 "nbformat": 4,
 "nbformat_minor": 2
}
